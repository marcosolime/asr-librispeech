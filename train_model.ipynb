{
 "cells": [
  {
   "cell_type": "markdown",
   "metadata": {},
   "source": [
    "# Train 🏋️\n",
    "- this notebook is used to train different models\n",
    "- we also train different versions of the same model\n",
    "- we save the corresponding weights under the `weights` folder"
   ]
  },
  {
   "cell_type": "code",
   "execution_count": 1,
   "metadata": {},
   "outputs": [],
   "source": [
    "# Libraries\n",
    "import torch\n",
    "import torch.nn as nn\n",
    "import torch.optim as optim\n",
    "import torch.nn.functional as F\n",
    "from torch.utils.data import DataLoader\n",
    "\n",
    "# Custom libraries\n",
    "from utils.preprocessing import Preprocessing\n",
    "from utils.decoders import DecoderBase\n",
    "from utils.metrics import batch_cer, batch_wer\n",
    "from utils.misc import pretty_params\n",
    "\n",
    "# Plots\n",
    "import wandb\n",
    "\n",
    "# Models\n",
    "from models.deep_speech_2 import MyDeepSpeech"
   ]
  },
  {
   "cell_type": "code",
   "execution_count": 2,
   "metadata": {},
   "outputs": [
    {
     "name": "stderr",
     "output_type": "stream",
     "text": [
      "wandb: Currently logged in as: iu4hry (fantastic_4). Use `wandb login --relogin` to force relogin\n"
     ]
    }
   ],
   "source": [
    "! wandb login"
   ]
  },
  {
   "cell_type": "code",
   "execution_count": 13,
   "metadata": {},
   "outputs": [],
   "source": [
    "# Hyperparams\n",
    "seed = 42\n",
    "batch_size = 16\n",
    "blank_id = 28\n",
    "epochs = 10\n",
    "\n",
    "# Deep speech hyperparams\n",
    "dp_hp = {\n",
    "    \"n_conv2d\": 3,\n",
    "    \"n_rnns\": 5,\n",
    "    \"rnn_dim\": 512,\n",
    "    \"n_class\": 29,\n",
    "    \"n_bins\": 128,\n",
    "    \"stride\": 2,\n",
    "    \"drop_rate\": 0.1,\n",
    "    \"lr\": 0.0005\n",
    "}\n"
   ]
  },
  {
   "cell_type": "code",
   "execution_count": 14,
   "metadata": {},
   "outputs": [
    {
     "name": "stdout",
     "output_type": "stream",
     "text": [
      "cuda\n"
     ]
    }
   ],
   "source": [
    "# Set up the device\n",
    "use_cuda = torch.cuda.is_available()\n",
    "torch.manual_seed(seed)\n",
    "device = torch.device(\"cuda\" if use_cuda else \"cpu\")\n",
    "\n",
    "print(device)"
   ]
  },
  {
   "cell_type": "code",
   "execution_count": 15,
   "metadata": {},
   "outputs": [
    {
     "name": "stderr",
     "output_type": "stream",
     "text": [
      "c:\\Users\\marco\\.conda\\envs\\exp\\Lib\\site-packages\\torchaudio\\functional\\functional.py:584: UserWarning: At least one mel filterbank has all zero values. The value for `n_mels` (128) may be set too high. Or, the value for `n_freqs` (201) may be set too low.\n",
      "  warnings.warn(\n"
     ]
    }
   ],
   "source": [
    "# Data processing using custom library\n",
    "prep = Preprocessing()\n",
    "train_set = prep.download(split='train', download=False)"
   ]
  },
  {
   "cell_type": "code",
   "execution_count": 16,
   "metadata": {},
   "outputs": [
    {
     "name": "stdout",
     "output_type": "stream",
     "text": [
      "Number of batches: 1784\n",
      "Number of samples: 28539\n"
     ]
    }
   ],
   "source": [
    "# Data loading\n",
    "train_loader = DataLoader(dataset=train_set,\n",
    "                          batch_size=batch_size,\n",
    "                          shuffle=True,\n",
    "                          collate_fn=lambda x: prep.preprocess(x, \"train\"))\n",
    "\n",
    "n_batches = int(len(train_loader))\n",
    "n_samples = int(len(train_loader.dataset))\n",
    "\n",
    "print(f\"Number of batches: {n_batches}\")\n",
    "print(f\"Number of samples: {n_samples}\")"
   ]
  },
  {
   "cell_type": "code",
   "execution_count": 17,
   "metadata": {},
   "outputs": [
    {
     "name": "stdout",
     "output_type": "stream",
     "text": [
      "#params: 23.71M (23705373)\n"
     ]
    }
   ],
   "source": [
    "# Model\n",
    "deep_speech = MyDeepSpeech(dp_hp['n_conv2d'],\n",
    "                           dp_hp['n_rnns'], \n",
    "                           dp_hp['rnn_dim'], \n",
    "                           dp_hp['n_class'], \n",
    "                           dp_hp['n_bins']).to(device)\n",
    "\n",
    "tot_params = sum([p.numel() for p in deep_speech.parameters()])\n",
    "\n",
    "print(f\"#params: {pretty_params(tot_params)} ({tot_params})\")"
   ]
  },
  {
   "cell_type": "code",
   "execution_count": 18,
   "metadata": {},
   "outputs": [],
   "source": [
    "# Decoder \n",
    "decoder = DecoderBase()"
   ]
  },
  {
   "cell_type": "code",
   "execution_count": 19,
   "metadata": {},
   "outputs": [],
   "source": [
    "# Optimizer, loss, scheduler\n",
    "optimizer = optim.AdamW(deep_speech.parameters(), dp_hp['lr'])\n",
    "criterion = nn.CTCLoss(blank=blank_id).to(device)\n",
    "scheduler = optim.lr_scheduler.OneCycleLR(optimizer,\n",
    "                                          max_lr=dp_hp['lr'],\n",
    "                                          steps_per_epoch=n_batches,\n",
    "                                          epochs=epochs,\n",
    "                                          anneal_strategy=\"linear\")"
   ]
  },
  {
   "cell_type": "code",
   "execution_count": 20,
   "metadata": {},
   "outputs": [
    {
     "data": {
      "text/html": [
       "Finishing last run (ID:l1o8uqjo) before initializing another..."
      ],
      "text/plain": [
       "<IPython.core.display.HTML object>"
      ]
     },
     "metadata": {},
     "output_type": "display_data"
    },
    {
     "data": {
      "text/html": [
       "<style>\n",
       "    table.wandb td:nth-child(1) { padding: 0 10px; text-align: left ; width: auto;} td:nth-child(2) {text-align: left ; width: 100%}\n",
       "    .wandb-row { display: flex; flex-direction: row; flex-wrap: wrap; justify-content: flex-start; width: 100% }\n",
       "    .wandb-col { display: flex; flex-direction: column; flex-basis: 100%; flex: 1; padding: 10px; }\n",
       "    </style>\n",
       "<div class=\"wandb-row\"><div class=\"wandb-col\"><h3>Run history:</h3><br/><table class=\"wandb\"><tr><td>cer</td><td>█▁▁▁▁▁▁▁▁▁▁▁▁▁▁▁▁▁▁</td></tr><tr><td>loss</td><td>█▁▁▁▁▁▁▁▁▁▁▁▁▁▁▁▁▁▁</td></tr><tr><td>wer</td><td>▁▁▁▁▁▁▁▁▁▁▁▁▁▁▁▁▁▁▁</td></tr></table><br/></div><div class=\"wandb-col\"><h3>Run summary:</h3><br/><table class=\"wandb\"><tr><td>cer</td><td>1.0</td></tr><tr><td>loss</td><td>3.00177</td></tr><tr><td>wer</td><td>1.0</td></tr></table><br/></div></div>"
      ],
      "text/plain": [
       "<IPython.core.display.HTML object>"
      ]
     },
     "metadata": {},
     "output_type": "display_data"
    },
    {
     "data": {
      "text/html": [
       " View run <strong style=\"color:#cdcd00\">fallen-fog-8</strong> at: <a href='https://wandb.ai/fantastic_4/asr_librispeech/runs/l1o8uqjo/workspace' target=\"_blank\">https://wandb.ai/fantastic_4/asr_librispeech/runs/l1o8uqjo/workspace</a><br/>Synced 5 W&B file(s), 0 media file(s), 0 artifact file(s) and 0 other file(s)"
      ],
      "text/plain": [
       "<IPython.core.display.HTML object>"
      ]
     },
     "metadata": {},
     "output_type": "display_data"
    },
    {
     "data": {
      "text/html": [
       "Find logs at: <code>.\\wandb\\run-20240330_152959-l1o8uqjo\\logs</code>"
      ],
      "text/plain": [
       "<IPython.core.display.HTML object>"
      ]
     },
     "metadata": {},
     "output_type": "display_data"
    },
    {
     "data": {
      "text/html": [
       "Successfully finished last run (ID:l1o8uqjo). Initializing new run:<br/>"
      ],
      "text/plain": [
       "<IPython.core.display.HTML object>"
      ]
     },
     "metadata": {},
     "output_type": "display_data"
    },
    {
     "data": {
      "text/html": [
       "Tracking run with wandb version 0.16.5"
      ],
      "text/plain": [
       "<IPython.core.display.HTML object>"
      ]
     },
     "metadata": {},
     "output_type": "display_data"
    },
    {
     "data": {
      "text/html": [
       "Run data is saved locally in <code>c:\\Users\\marco\\OneDrive - Alma Mater Studiorum Università di Bologna\\University\\NLP_Torroni\\ASR\\app\\wandb\\run-20240330_155008-t2ao4ujf</code>"
      ],
      "text/plain": [
       "<IPython.core.display.HTML object>"
      ]
     },
     "metadata": {},
     "output_type": "display_data"
    },
    {
     "data": {
      "text/html": [
       "Syncing run <strong><a href='https://wandb.ai/fantastic_4/asr_librispeech/runs/t2ao4ujf/workspace' target=\"_blank\">different-river-9</a></strong> to <a href='https://wandb.ai/fantastic_4/asr_librispeech' target=\"_blank\">Weights & Biases</a> (<a href='https://wandb.me/run' target=\"_blank\">docs</a>)<br/>"
      ],
      "text/plain": [
       "<IPython.core.display.HTML object>"
      ]
     },
     "metadata": {},
     "output_type": "display_data"
    },
    {
     "data": {
      "text/html": [
       " View project at <a href='https://wandb.ai/fantastic_4/asr_librispeech' target=\"_blank\">https://wandb.ai/fantastic_4/asr_librispeech</a>"
      ],
      "text/plain": [
       "<IPython.core.display.HTML object>"
      ]
     },
     "metadata": {},
     "output_type": "display_data"
    },
    {
     "data": {
      "text/html": [
       " View run at <a href='https://wandb.ai/fantastic_4/asr_librispeech/runs/t2ao4ujf/workspace' target=\"_blank\">https://wandb.ai/fantastic_4/asr_librispeech/runs/t2ao4ujf/workspace</a>"
      ],
      "text/plain": [
       "<IPython.core.display.HTML object>"
      ]
     },
     "metadata": {},
     "output_type": "display_data"
    },
    {
     "data": {
      "text/html": [
       "<button onClick=\"this.nextSibling.style.display='block';this.style.display='none';\">Display W&B run</button><iframe src='https://wandb.ai/fantastic_4/asr_librispeech/runs/t2ao4ujf?jupyter=true' style='border:none;width:100%;height:420px;display:none;'></iframe>"
      ],
      "text/plain": [
       "<wandb.sdk.wandb_run.Run at 0x1d500c8b8f0>"
      ]
     },
     "execution_count": 20,
     "metadata": {},
     "output_type": "execute_result"
    }
   ],
   "source": [
    "# Wandb\n",
    "wandb.init(\n",
    "    project=\"asr_librispeech\",\n",
    "\n",
    "    config= {\n",
    "        \"model\": \"deep_speech_2_base\",\n",
    "        \"dataset\": \"librispeech_train\",\n",
    "    }\n",
    ")"
   ]
  },
  {
   "cell_type": "code",
   "execution_count": null,
   "metadata": {},
   "outputs": [],
   "source": [
    "# Train loop\n",
    "for epoch in range(1, epochs+1):\n",
    "    cer_list = []\n",
    "    wer_list = []\n",
    "\n",
    "    # Train mode ON\n",
    "    deep_speech.train()\n",
    "    \n",
    "    for idx, audio_data in enumerate(train_loader):\n",
    "        \n",
    "        # Get audio data\n",
    "        spectograms, indices, len_spectograms, len_indices = audio_data\n",
    "        spectograms, indices = spectograms.to(device), indices.to(device)\n",
    "\n",
    "        optimizer.zero_grad()\n",
    "        \n",
    "        # Forward pass\n",
    "        out = deep_speech(spectograms) # [batch, time, n_class]\n",
    "        out = F.log_softmax(out, dim=2)\n",
    "        out = out.transpose(0, 1) # [time, batch, n_class]\n",
    "        \n",
    "        # Backward pass\n",
    "        loss = criterion(out, indices, len_spectograms, len_indices)\n",
    "        loss.backward()\n",
    "\n",
    "        # Step\n",
    "        optimizer.step()\n",
    "        scheduler.step()\n",
    "\n",
    "        # Metrics\n",
    "        decode_preds = decoder.decode_prob(out, prep.tokenizer)\n",
    "        decode_targets = decoder.decode_labels(indices, len_indices, prep.tokenizer)\n",
    "\n",
    "        wer_list.append(batch_wer(decode_targets, decode_preds, average=True))\n",
    "        cer_list.append(batch_cer(decode_targets, decode_preds, average=True))\n",
    "\n",
    "        # Log\n",
    "        if idx % 64 == 0 or idx == n_samples:\n",
    "            avg_wer = sum(wer_list) / len(wer_list)\n",
    "            avg_cer = sum(cer_list) / len(cer_list)\n",
    "            print(\"Epoch: {}, [{}/{}], Loss: {:.6f}, avg_WER: {:.2f}, avg_CER: {:.2f}\".format(\n",
    "                epoch, \n",
    "                idx*len(spectograms), \n",
    "                n_samples,\n",
    "                loss.item(),\n",
    "                avg_wer,\n",
    "                avg_cer))\n",
    "\n",
    "            wandb.log({\n",
    "                \"loss\": loss.item(),\n",
    "                \"wer\": avg_wer,\n",
    "                \"cer\": avg_cer\n",
    "            })\n",
    "\n",
    "wandb.finish()"
   ]
  }
 ],
 "metadata": {
  "kernelspec": {
   "display_name": "nlp_env",
   "language": "python",
   "name": "python3"
  },
  "language_info": {
   "codemirror_mode": {
    "name": "ipython",
    "version": 3
   },
   "file_extension": ".py",
   "mimetype": "text/x-python",
   "name": "python",
   "nbconvert_exporter": "python",
   "pygments_lexer": "ipython3",
   "version": "3.12.2"
  }
 },
 "nbformat": 4,
 "nbformat_minor": 2
}
