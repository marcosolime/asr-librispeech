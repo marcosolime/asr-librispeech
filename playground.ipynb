{
 "cells": [
  {
   "cell_type": "markdown",
   "metadata": {},
   "source": [
    "# Playground\n",
    "- a \"battlefield\" - a place to experiment and try new things."
   ]
  },
  {
   "cell_type": "markdown",
   "metadata": {},
   "source": [
    "Load dataset, augment data, print samples, etc."
   ]
  },
  {
   "cell_type": "code",
   "execution_count": 8,
   "metadata": {},
   "outputs": [],
   "source": [
    "# Libraries\n",
    "import torch\n",
    "import torch.nn as nn\n",
    "from torch.utils.data import DataLoader\n",
    "from utils.preprocessing import Preprocessing\n",
    "import numpy as np\n"
   ]
  },
  {
   "cell_type": "code",
   "execution_count": 9,
   "metadata": {},
   "outputs": [
    {
     "name": "stderr",
     "output_type": "stream",
     "text": [
      "c:\\Users\\marco\\.conda\\envs\\exp\\Lib\\site-packages\\torchaudio\\functional\\functional.py:584: UserWarning: At least one mel filterbank has all zero values. The value for `n_mels` (128) may be set too high. Or, the value for `n_freqs` (201) may be set too low.\n",
      "  warnings.warn(\n"
     ]
    }
   ],
   "source": [
    "# Import custom preprocessing library\n",
    "prep = Preprocessing()\n",
    "train_set = prep.download(split='train', download=False)"
   ]
  },
  {
   "cell_type": "code",
   "execution_count": 10,
   "metadata": {},
   "outputs": [
    {
     "name": "stdout",
     "output_type": "stream",
     "text": [
      "+------ Printing info for sample [22126] ------+\n",
      "- Waveform is a Tensor of size [1, 229440], type=torch.float32\n",
      "- Sample rate: 16000\n",
      "- Transcript: TALKED ABOUT BUT NOT IN A HARMFUL WAY AND ...\n",
      "- Speaker id: 7067\n",
      "- Chapter id: 76047\n",
      "- Utterance id: 27\n",
      "+---------------------------------------+\n"
     ]
    }
   ],
   "source": [
    "# Print random audio sample\n",
    "prep.print_raw_sample(np.random.randint(len(train_set)), train_set)"
   ]
  },
  {
   "cell_type": "code",
   "execution_count": 11,
   "metadata": {},
   "outputs": [],
   "source": [
    "# Create data loader\n",
    "train_loader = DataLoader(dataset=train_set,\n",
    "                          batch_size=16,\n",
    "                          shuffle=True,\n",
    "                          collate_fn=lambda x: prep.preprocess(x, \"train\"))\n",
    "\n"
   ]
  },
  {
   "cell_type": "code",
   "execution_count": 12,
   "metadata": {},
   "outputs": [
    {
     "name": "stdout",
     "output_type": "stream",
     "text": [
      "+------ Dataloader length: 28539 ------+\n",
      "# Batches: 1784\n",
      "Spectogram shape: [16, 1, 128, 1349]\n",
      "Label shape: [16, 274]\n",
      "Mel length (length of each spectogram): [603, 549, 493, 602, 519, 598] ...\n",
      "Idx length (length of each label): [274, 177, 225, 215, 211, 210] ...\n",
      "+------------------------------------+\n"
     ]
    }
   ],
   "source": [
    "# Inspect batch of data\n",
    "prep.print_loader_info(train_loader)"
   ]
  },
  {
   "cell_type": "code",
   "execution_count": 13,
   "metadata": {},
   "outputs": [
    {
     "data": {
      "text/plain": [
       "False"
      ]
     },
     "execution_count": 13,
     "metadata": {},
     "output_type": "execute_result"
    }
   ],
   "source": [
    "torch.cuda.is_available()"
   ]
  },
  {
   "cell_type": "markdown",
   "metadata": {},
   "source": [
    "Import custom models and neural layers, and test them on sample data."
   ]
  },
  {
   "cell_type": "code",
   "execution_count": 6,
   "metadata": {},
   "outputs": [],
   "source": [
    "from models.deep_speech_2 import MyLayerNorm, MySkipCNN, MyBiGRU, MyDeepSpeech\n",
    "from torch.nn import Conv2d, Linear\n",
    "\n",
    "#layer_norm = MyLayerNorm(n_bins=128)\n",
    "cnn = Conv2d(1, 32, 3, stride=2, padding=1)\n",
    "skip_cnn = MySkipCNN(32, 32, kernel=3, stride=1, drop_rate=0.5, n_bins=64)\n",
    "fc = Linear(2048, 512)\n",
    "\n",
    "bigru_1 = MyBiGRU(512, 512, 0.5, True)\n",
    "bigru_2 = MyBiGRU(1024, 512, 0.5, True)\n",
    "\n",
    "deep_speech = MyDeepSpeech(3, 5, 512, 29, 128)"
   ]
  },
  {
   "cell_type": "code",
   "execution_count": 7,
   "metadata": {},
   "outputs": [
    {
     "name": "stdout",
     "output_type": "stream",
     "text": [
      "Shape before: torch.Size([16, 1, 128, 1265])\n",
      "Shape after CNN and SkipCNN: torch.Size([16, 32, 64, 633])\n",
      "Shape after view: torch.Size([16, 2048, 633])\n",
      "Shape after tranpose: torch.Size([16, 633, 2048])\n",
      "Shape after linear layer: torch.Size([16, 633, 512])\n",
      "Shape after bigru 1: torch.Size([16, 633, 1024])\n",
      "Shape after bigru 2: torch.Size([16, 633, 1024])\n",
      "Shape after final linear classifier: torch.Size([16, 633, 27])\n"
     ]
    }
   ],
   "source": [
    "# Check shapes layer by layer\n",
    "for idx, data in enumerate(train_loader):\n",
    "    \n",
    "    # batch of data to play with\n",
    "    spec = data[0]\n",
    "\n",
    "    #### layer norm ####\n",
    "    # print(f\"Shape before: {spec.shape}\")\n",
    "    # out = layer_norm(spec)\n",
    "    # print(f\"Shape after: {out.shape}\")\n",
    "    \n",
    "    # Skip cnn\n",
    "    print(f\"Shape before: {spec.shape}\") # [16, 1, 128, 1315]\n",
    "    out = cnn(spec)\n",
    "    out = skip_cnn(out)\n",
    "\n",
    "    sizes = out.shape\n",
    "    print(f\"Shape after CNN and SkipCNN: {sizes}\") # [16, 32, 64, 658]\n",
    "    \n",
    "    out = out.view(sizes[0], sizes[1]*sizes[2], sizes[3])\n",
    "    print(f\"Shape after view: {out.shape}\") # [16, 2048, 658]\n",
    "\n",
    "    out = out.transpose(1, 2)\n",
    "    print(f\"Shape after tranpose: {out.shape}\") # [16, 658, 2048]\n",
    "\n",
    "    out = fc(out)\n",
    "    print(f\"Shape after linear layer: {out.shape}\") # [16, 648, 512]\n",
    "\n",
    "    out = bigru_1(out)\n",
    "    print(f\"Shape after bigru 1: {out.shape}\")  # [16, 648, 1024]\n",
    "    \n",
    "    out = bigru_2(out)\n",
    "    print(f\"Shape after bigru 2: {out.shape}\")  # [16, 648, 1024]\n",
    "\n",
    "    out = Linear(1024, 512)(out)\n",
    "    out = nn.GELU()(out)\n",
    "    out = nn.Dropout(0.5)(out)\n",
    "    out = nn.Linear(512, 27)(out)\n",
    "    print(f\"Shape after final linear classifier: {out.shape}\") # [16, 639, 27]\n",
    "    break"
   ]
  },
  {
   "cell_type": "code",
   "execution_count": 8,
   "metadata": {},
   "outputs": [
    {
     "name": "stdout",
     "output_type": "stream",
     "text": [
      "Input shape: torch.Size([16, 1, 128, 1305])\n",
      "Deep: torch.Size([16, 32, 64, 653])\n",
      "Deep: torch.Size([16, 32, 64, 653])\n",
      "Deep: torch.Size([16, 653, 512])\n",
      "After RNN block: torch.Size([16, 653, 1024])\n",
      "Final: torch.Size([16, 653, 29])\n",
      "Output shape: torch.Size([16, 653, 29])\n"
     ]
    }
   ],
   "source": [
    "# Check deep speech model\n",
    "for idx, data in enumerate(train_loader):\n",
    "    spec = data[0]\n",
    "\n",
    "    print(f\"Input shape: {spec.shape}\")\n",
    "    out = deep_speech(spec)\n",
    "    print(f\"Output shape: {out.shape}\")\n",
    "    break"
   ]
  },
  {
   "cell_type": "code",
   "execution_count": 4,
   "metadata": {},
   "outputs": [
    {
     "name": "stdout",
     "output_type": "stream",
     "text": [
      "Fri Mar 29 10:28:08 2024       \n",
      "+---------------------------------------------------------------------------------------+\n",
      "| NVIDIA-SMI 537.70                 Driver Version: 537.70       CUDA Version: 12.2     |\n",
      "|-----------------------------------------+----------------------+----------------------+\n",
      "| GPU  Name                     TCC/WDDM  | Bus-Id        Disp.A | Volatile Uncorr. ECC |\n",
      "| Fan  Temp   Perf          Pwr:Usage/Cap |         Memory-Usage | GPU-Util  Compute M. |\n",
      "|                                         |                      |               MIG M. |\n",
      "|=========================================+======================+======================|\n",
      "|   0  NVIDIA GeForce RTX 3060 ...  WDDM  | 00000000:01:00.0 Off |                  N/A |\n",
      "| N/A   26C    P0              23W / 105W |      0MiB /  6144MiB |      0%      Default |\n",
      "|                                         |                      |                  N/A |\n",
      "+-----------------------------------------+----------------------+----------------------+\n",
      "                                                                                         \n",
      "+---------------------------------------------------------------------------------------+\n",
      "| Processes:                                                                            |\n",
      "|  GPU   GI   CI        PID   Type   Process name                            GPU Memory |\n",
      "|        ID   ID                                                             Usage      |\n",
      "|=======================================================================================|\n",
      "|  No running processes found                                                           |\n",
      "+---------------------------------------------------------------------------------------+\n"
     ]
    }
   ],
   "source": [
    "! nvidia-smi"
   ]
  },
  {
   "cell_type": "code",
   "execution_count": 7,
   "metadata": {},
   "outputs": [
    {
     "ename": "AssertionError",
     "evalue": "Torch not compiled with CUDA enabled",
     "output_type": "error",
     "traceback": [
      "\u001b[1;31m---------------------------------------------------------------------------\u001b[0m",
      "\u001b[1;31mAssertionError\u001b[0m                            Traceback (most recent call last)",
      "Cell \u001b[1;32mIn[7], line 2\u001b[0m\n\u001b[0;32m      1\u001b[0m \u001b[38;5;28;01mimport\u001b[39;00m \u001b[38;5;21;01mtorch\u001b[39;00m\n\u001b[1;32m----> 2\u001b[0m \u001b[43mtorch\u001b[49m\u001b[38;5;241;43m.\u001b[39;49m\u001b[43mzeros\u001b[49m\u001b[43m(\u001b[49m\u001b[38;5;241;43m1\u001b[39;49m\u001b[43m)\u001b[49m\u001b[38;5;241;43m.\u001b[39;49m\u001b[43mcuda\u001b[49m\u001b[43m(\u001b[49m\u001b[43m)\u001b[49m\n",
      "File \u001b[1;32mc:\\Users\\marco\\.conda\\envs\\exp\\Lib\\site-packages\\torch\\cuda\\__init__.py:293\u001b[0m, in \u001b[0;36m_lazy_init\u001b[1;34m()\u001b[0m\n\u001b[0;32m    288\u001b[0m     \u001b[38;5;28;01mraise\u001b[39;00m \u001b[38;5;167;01mRuntimeError\u001b[39;00m(\n\u001b[0;32m    289\u001b[0m         \u001b[38;5;124m\"\u001b[39m\u001b[38;5;124mCannot re-initialize CUDA in forked subprocess. To use CUDA with \u001b[39m\u001b[38;5;124m\"\u001b[39m\n\u001b[0;32m    290\u001b[0m         \u001b[38;5;124m\"\u001b[39m\u001b[38;5;124mmultiprocessing, you must use the \u001b[39m\u001b[38;5;124m'\u001b[39m\u001b[38;5;124mspawn\u001b[39m\u001b[38;5;124m'\u001b[39m\u001b[38;5;124m start method\u001b[39m\u001b[38;5;124m\"\u001b[39m\n\u001b[0;32m    291\u001b[0m     )\n\u001b[0;32m    292\u001b[0m \u001b[38;5;28;01mif\u001b[39;00m \u001b[38;5;129;01mnot\u001b[39;00m \u001b[38;5;28mhasattr\u001b[39m(torch\u001b[38;5;241m.\u001b[39m_C, \u001b[38;5;124m\"\u001b[39m\u001b[38;5;124m_cuda_getDeviceCount\u001b[39m\u001b[38;5;124m\"\u001b[39m):\n\u001b[1;32m--> 293\u001b[0m     \u001b[38;5;28;01mraise\u001b[39;00m \u001b[38;5;167;01mAssertionError\u001b[39;00m(\u001b[38;5;124m\"\u001b[39m\u001b[38;5;124mTorch not compiled with CUDA enabled\u001b[39m\u001b[38;5;124m\"\u001b[39m)\n\u001b[0;32m    294\u001b[0m \u001b[38;5;28;01mif\u001b[39;00m _cudart \u001b[38;5;129;01mis\u001b[39;00m \u001b[38;5;28;01mNone\u001b[39;00m:\n\u001b[0;32m    295\u001b[0m     \u001b[38;5;28;01mraise\u001b[39;00m \u001b[38;5;167;01mAssertionError\u001b[39;00m(\n\u001b[0;32m    296\u001b[0m         \u001b[38;5;124m\"\u001b[39m\u001b[38;5;124mlibcudart functions unavailable. It looks like you have a broken build?\u001b[39m\u001b[38;5;124m\"\u001b[39m\n\u001b[0;32m    297\u001b[0m     )\n",
      "\u001b[1;31mAssertionError\u001b[0m: Torch not compiled with CUDA enabled"
     ]
    }
   ],
   "source": [
    "import torch\n",
    "torch.zeros(1).cuda()"
   ]
  },
  {
   "cell_type": "code",
   "execution_count": 7,
   "metadata": {},
   "outputs": [
    {
     "name": "stdout",
     "output_type": "stream",
     "text": [
      "3.12.2 | packaged by conda-forge | (main, Feb 16 2024, 20:42:31) [MSC v.1937 64 bit (AMD64)]\n",
      "None\n"
     ]
    }
   ],
   "source": [
    "import torch\n",
    "import sys\n",
    "\n",
    "print(sys.version)\n",
    "print(torch.version.cuda)"
   ]
  },
  {
   "cell_type": "markdown",
   "metadata": {},
   "source": [
    "Wandb - dummy script to log accuracy and loss"
   ]
  },
  {
   "cell_type": "code",
   "execution_count": 3,
   "metadata": {},
   "outputs": [
    {
     "data": {
      "text/plain": [
       "652"
      ]
     },
     "execution_count": 3,
     "metadata": {},
     "output_type": "execute_result"
    }
   ],
   "source": [
    "1305 // 2"
   ]
  },
  {
   "cell_type": "code",
   "execution_count": 9,
   "metadata": {},
   "outputs": [
    {
     "name": "stdout",
     "output_type": "stream",
     "text": [
      "Requirement already satisfied: wandb in c:\\users\\marco\\.conda\\envs\\nlp_env\\lib\\site-packages (0.16.4)\n",
      "Requirement already satisfied: Click!=8.0.0,>=7.1 in c:\\users\\marco\\.conda\\envs\\nlp_env\\lib\\site-packages (from wandb) (8.1.7)\n",
      "Requirement already satisfied: GitPython!=3.1.29,>=1.0.0 in c:\\users\\marco\\.conda\\envs\\nlp_env\\lib\\site-packages (from wandb) (3.1.42)\n",
      "Requirement already satisfied: requests<3,>=2.0.0 in c:\\users\\marco\\.conda\\envs\\nlp_env\\lib\\site-packages (from wandb) (2.31.0)\n",
      "Requirement already satisfied: psutil>=5.0.0 in c:\\users\\marco\\.conda\\envs\\nlp_env\\lib\\site-packages (from wandb) (5.9.8)\n",
      "Requirement already satisfied: sentry-sdk>=1.0.0 in c:\\users\\marco\\.conda\\envs\\nlp_env\\lib\\site-packages (from wandb) (1.43.0)\n",
      "Requirement already satisfied: docker-pycreds>=0.4.0 in c:\\users\\marco\\.conda\\envs\\nlp_env\\lib\\site-packages (from wandb) (0.4.0)\n",
      "Requirement already satisfied: PyYAML in c:\\users\\marco\\.conda\\envs\\nlp_env\\lib\\site-packages (from wandb) (6.0.1)\n",
      "Requirement already satisfied: setproctitle in c:\\users\\marco\\.conda\\envs\\nlp_env\\lib\\site-packages (from wandb) (1.3.3)\n",
      "Requirement already satisfied: setuptools in c:\\users\\marco\\.conda\\envs\\nlp_env\\lib\\site-packages (from wandb) (69.2.0)\n",
      "Requirement already satisfied: appdirs>=1.4.3 in c:\\users\\marco\\.conda\\envs\\nlp_env\\lib\\site-packages (from wandb) (1.4.4)\n",
      "Requirement already satisfied: protobuf!=4.21.0,<5,>=3.19.0 in c:\\users\\marco\\.conda\\envs\\nlp_env\\lib\\site-packages (from wandb) (4.25.3)\n",
      "Requirement already satisfied: colorama in c:\\users\\marco\\.conda\\envs\\nlp_env\\lib\\site-packages (from Click!=8.0.0,>=7.1->wandb) (0.4.6)\n",
      "Requirement already satisfied: six>=1.4.0 in c:\\users\\marco\\.conda\\envs\\nlp_env\\lib\\site-packages (from docker-pycreds>=0.4.0->wandb) (1.16.0)\n",
      "Requirement already satisfied: gitdb<5,>=4.0.1 in c:\\users\\marco\\.conda\\envs\\nlp_env\\lib\\site-packages (from GitPython!=3.1.29,>=1.0.0->wandb) (4.0.11)\n",
      "Requirement already satisfied: charset-normalizer<4,>=2 in c:\\users\\marco\\.conda\\envs\\nlp_env\\lib\\site-packages (from requests<3,>=2.0.0->wandb) (3.3.2)\n",
      "Requirement already satisfied: idna<4,>=2.5 in c:\\users\\marco\\.conda\\envs\\nlp_env\\lib\\site-packages (from requests<3,>=2.0.0->wandb) (3.6)\n",
      "Requirement already satisfied: urllib3<3,>=1.21.1 in c:\\users\\marco\\.conda\\envs\\nlp_env\\lib\\site-packages (from requests<3,>=2.0.0->wandb) (2.2.1)\n",
      "Requirement already satisfied: certifi>=2017.4.17 in c:\\users\\marco\\.conda\\envs\\nlp_env\\lib\\site-packages (from requests<3,>=2.0.0->wandb) (2024.2.2)\n",
      "Requirement already satisfied: smmap<6,>=3.0.1 in c:\\users\\marco\\.conda\\envs\\nlp_env\\lib\\site-packages (from gitdb<5,>=4.0.1->GitPython!=3.1.29,>=1.0.0->wandb) (5.0.1)\n"
     ]
    }
   ],
   "source": [
    "! pip install wandb"
   ]
  },
  {
   "cell_type": "code",
   "execution_count": 10,
   "metadata": {},
   "outputs": [
    {
     "name": "stderr",
     "output_type": "stream",
     "text": [
      "wandb: Appending key for api.wandb.ai to your netrc file: C:\\Users\\marco\\.netrc\n"
     ]
    }
   ],
   "source": [
    "! wandb login 33a194fab1b28225adfa0561f9a0dcbae4adff8b"
   ]
  },
  {
   "cell_type": "code",
   "execution_count": 11,
   "metadata": {},
   "outputs": [
    {
     "name": "stderr",
     "output_type": "stream",
     "text": [
      "Failed to detect the name of this notebook, you can set it manually with the WANDB_NOTEBOOK_NAME environment variable to enable code saving.\n",
      "\u001b[34m\u001b[1mwandb\u001b[0m: Currently logged in as: \u001b[33miu4hry\u001b[0m (\u001b[33mfantastic_4\u001b[0m). Use \u001b[1m`wandb login --relogin`\u001b[0m to force relogin\n"
     ]
    },
    {
     "data": {
      "text/html": [
       "wandb version 0.16.5 is available!  To upgrade, please run:\n",
       " $ pip install wandb --upgrade"
      ],
      "text/plain": [
       "<IPython.core.display.HTML object>"
      ]
     },
     "metadata": {},
     "output_type": "display_data"
    },
    {
     "data": {
      "text/html": [
       "Tracking run with wandb version 0.16.4"
      ],
      "text/plain": [
       "<IPython.core.display.HTML object>"
      ]
     },
     "metadata": {},
     "output_type": "display_data"
    },
    {
     "data": {
      "text/html": [
       "Run data is saved locally in <code>c:\\Users\\marco\\OneDrive - Alma Mater Studiorum Università di Bologna\\University\\NLP_Torroni\\ASR\\app\\wandb\\run-20240326_193230-jlp2ekhy</code>"
      ],
      "text/plain": [
       "<IPython.core.display.HTML object>"
      ]
     },
     "metadata": {},
     "output_type": "display_data"
    },
    {
     "data": {
      "text/html": [
       "Syncing run <strong><a href='https://wandb.ai/fantastic_4/asr_librispeech/runs/jlp2ekhy' target=\"_blank\">devoted-field-6</a></strong> to <a href='https://wandb.ai/fantastic_4/asr_librispeech' target=\"_blank\">Weights & Biases</a> (<a href='https://wandb.me/run' target=\"_blank\">docs</a>)<br/>"
      ],
      "text/plain": [
       "<IPython.core.display.HTML object>"
      ]
     },
     "metadata": {},
     "output_type": "display_data"
    },
    {
     "data": {
      "text/html": [
       " View project at <a href='https://wandb.ai/fantastic_4/asr_librispeech' target=\"_blank\">https://wandb.ai/fantastic_4/asr_librispeech</a>"
      ],
      "text/plain": [
       "<IPython.core.display.HTML object>"
      ]
     },
     "metadata": {},
     "output_type": "display_data"
    },
    {
     "data": {
      "text/html": [
       " View run at <a href='https://wandb.ai/fantastic_4/asr_librispeech/runs/jlp2ekhy' target=\"_blank\">https://wandb.ai/fantastic_4/asr_librispeech/runs/jlp2ekhy</a>"
      ],
      "text/plain": [
       "<IPython.core.display.HTML object>"
      ]
     },
     "metadata": {},
     "output_type": "display_data"
    },
    {
     "data": {
      "text/html": [
       "<style>\n",
       "    table.wandb td:nth-child(1) { padding: 0 10px; text-align: left ; width: auto;} td:nth-child(2) {text-align: left ; width: 100%}\n",
       "    .wandb-row { display: flex; flex-direction: row; flex-wrap: wrap; justify-content: flex-start; width: 100% }\n",
       "    .wandb-col { display: flex; flex-direction: column; flex-basis: 100%; flex: 1; padding: 10px; }\n",
       "    </style>\n",
       "<div class=\"wandb-row\"><div class=\"wandb-col\"><h3>Run history:</h3><br/><table class=\"wandb\"><tr><td>acc</td><td>▁▇▇█▇█▇█████████████████████████████████</td></tr><tr><td>loss</td><td>█▃▂▁▂▂▂▁▁▁▁▁▁▁▁▁▁▁▁▁▁▁▁▁▁▁▁▁▁▁▁▁▁▁▁▁▁▁▁▁</td></tr></table><br/></div><div class=\"wandb-col\"><h3>Run summary:</h3><br/><table class=\"wandb\"><tr><td>acc</td><td>0.86983</td></tr><tr><td>loss</td><td>0.12401</td></tr></table><br/></div></div>"
      ],
      "text/plain": [
       "<IPython.core.display.HTML object>"
      ]
     },
     "metadata": {},
     "output_type": "display_data"
    },
    {
     "data": {
      "text/html": [
       " View run <strong style=\"color:#cdcd00\">devoted-field-6</strong> at: <a href='https://wandb.ai/fantastic_4/asr_librispeech/runs/jlp2ekhy' target=\"_blank\">https://wandb.ai/fantastic_4/asr_librispeech/runs/jlp2ekhy</a><br/>Synced 4 W&B file(s), 0 media file(s), 0 artifact file(s) and 0 other file(s)"
      ],
      "text/plain": [
       "<IPython.core.display.HTML object>"
      ]
     },
     "metadata": {},
     "output_type": "display_data"
    },
    {
     "data": {
      "text/html": [
       "Find logs at: <code>.\\wandb\\run-20240326_193230-jlp2ekhy\\logs</code>"
      ],
      "text/plain": [
       "<IPython.core.display.HTML object>"
      ]
     },
     "metadata": {},
     "output_type": "display_data"
    }
   ],
   "source": [
    "import wandb\n",
    "import random\n",
    "\n",
    "# Init\n",
    "wandb.init(\n",
    "    project=\"asr_librispeech\",\n",
    "\n",
    "    # hyperparams to track\n",
    "    config= {\n",
    "        \"lr\": 0.001,\n",
    "        \"model\": \"dummy_number_1\",\n",
    "        \"dataset\": \"db_fool\",\n",
    "        \"epochs\": 10,\n",
    "    }\n",
    ")\n",
    "\n",
    "# Train\n",
    "epochs = 100\n",
    "offset = random.random() / 5\n",
    "acc = 0\n",
    "for epoch in range(2, epochs):\n",
    "\n",
    "    # compute dummy accuracy and loss\n",
    "    acc = 1 - 2 ** -epoch - random.random() / epoch - offset\n",
    "    #acc += 0.4\n",
    "    #acc = acc % 1\n",
    "    loss = 2 ** -epoch + random.random() / epoch + offset\n",
    "    \n",
    "    # LOG!\n",
    "    wandb.log({\n",
    "        \"acc\": acc,\n",
    "        \"loss\": loss\n",
    "    })\n",
    "\n",
    "# Stop all the thing (put this line only in notebooks)\n",
    "wandb.finish()"
   ]
  },
  {
   "cell_type": "markdown",
   "metadata": {},
   "source": [
    "## Metrics"
   ]
  },
  {
   "cell_type": "code",
   "execution_count": 43,
   "metadata": {},
   "outputs": [],
   "source": [
    "from utils.metrics import word_errors, wer, cer"
   ]
  },
  {
   "cell_type": "code",
   "execution_count": 42,
   "metadata": {},
   "outputs": [
    {
     "data": {
      "text/plain": [
       "(1.0, 2)"
      ]
     },
     "execution_count": 42,
     "metadata": {},
     "output_type": "execute_result"
    }
   ],
   "source": [
    "word_errors(\"harry potter\", \"harry osborne\")"
   ]
  },
  {
   "cell_type": "markdown",
   "metadata": {},
   "source": [
    "Filter operator - removes any empty strings resulting from consecutive white spaces."
   ]
  },
  {
   "cell_type": "code",
   "execution_count": 19,
   "metadata": {},
   "outputs": [
    {
     "name": "stdout",
     "output_type": "stream",
     "text": [
      "ORIGINAL\n",
      "['harry', 'potter', 'is', 'a', '', 'wizard']\n",
      "\n",
      "WITHOUT FILTER\n",
      "harry potter is a  wizard\n",
      "\n",
      "WITH FILTER\n",
      "harry potter is a wizard\n",
      "\n",
      "COLLAPSE MODE\n",
      "harrypotterisawizard\n"
     ]
    }
   ],
   "source": [
    "reference = \"harry potter is a  wizard\"\n",
    "print('ORIGINAL')\n",
    "print(reference.split(' '))\n",
    "print()\n",
    "\n",
    "print('WITHOUT FILTER')\n",
    "print(\" \".join(reference.split(' ')))\n",
    "print()\n",
    "\n",
    "print('WITH FILTER')\n",
    "print(\" \".join(filter(None, reference.split(' '))))\n",
    "print()\n",
    "\n",
    "print('COLLAPSE MODE')\n",
    "print(\"\".join(filter(None, reference.split(' '))))"
   ]
  },
  {
   "cell_type": "code",
   "execution_count": 44,
   "metadata": {},
   "outputs": [
    {
     "data": {
      "text/plain": [
       "0.2"
      ]
     },
     "execution_count": 44,
     "metadata": {},
     "output_type": "execute_result"
    }
   ],
   "source": [
    "wer(\"harry potter is a magician\", \"harry potter is a wizard\") # 1/5 = 0.2 "
   ]
  },
  {
   "cell_type": "code",
   "execution_count": 47,
   "metadata": {},
   "outputs": [
    {
     "data": {
      "text/plain": [
       "0.25"
      ]
     },
     "execution_count": 47,
     "metadata": {},
     "output_type": "execute_result"
    }
   ],
   "source": [
    "wer(\"Peter Parker is Spider\", \"peter park is spider\") # 1 errors over 4 -> 0.25"
   ]
  },
  {
   "cell_type": "markdown",
   "metadata": {},
   "source": [
    "Difference between CER and WER\n",
    "- CER: works at char level. Basically, it is a huge edit distance between ref and hyp. May be a good idea to test our models.\n",
    "- WER: computes the edit distance at word level. In some cases, we get drastic chages after deleting one space - see below."
   ]
  },
  {
   "cell_type": "code",
   "execution_count": 48,
   "metadata": {},
   "outputs": [
    {
     "name": "stdout",
     "output_type": "stream",
     "text": [
      "CER: 0.1\n",
      "WER 1.0\n"
     ]
    }
   ],
   "source": [
    "print(\"CER:\", cer(\"spider man\", \"spiderman\")) # 1/10 = 0.1 GOOD\n",
    "print(\"WER\", wer(\"spider man\", \"spiderman\")) # 2/2 = 1.0 BAD"
   ]
  },
  {
   "cell_type": "markdown",
   "metadata": {},
   "source": [
    "CTC Loss. So basically, once we have the model predictions we need to take the log of the softmax. Why? Because it is written on the doc. Also, the shape is a bit silly - `[time, batch, classes]`. Targets must be [batch, length]"
   ]
  },
  {
   "cell_type": "code",
   "execution_count": 49,
   "metadata": {},
   "outputs": [
    {
     "data": {
      "text/plain": [
       "tensor([50, 50, 50, 50, 50, 50, 50, 50, 50, 50, 50, 50, 50, 50, 50, 50])"
      ]
     },
     "execution_count": 49,
     "metadata": {},
     "output_type": "execute_result"
    }
   ],
   "source": [
    "import torch\n",
    "torch.full(size=(16,), fill_value=50, dtype=torch.long)\n"
   ]
  },
  {
   "cell_type": "markdown",
   "metadata": {},
   "source": [
    "Playing around with Bidirectional GRU blocks."
   ]
  },
  {
   "cell_type": "code",
   "execution_count": 3,
   "metadata": {},
   "outputs": [
    {
     "name": "stdout",
     "output_type": "stream",
     "text": [
      "Before: torch.Size([16, 650, 512])\n",
      "After: torch.Size([16, 650, 64])\n"
     ]
    }
   ],
   "source": [
    "import torch\n",
    "from models.blocks import BiGRU\n",
    "\n",
    "seq_len, emb_size = 650, 512\n",
    "hid_size = 32\n",
    "input_size = (16, seq_len, emb_size)\n",
    "\n",
    "gru = BiGRU(emb_size, hid_size, 0.1, False)\n",
    "\n",
    "x = torch.randn(input_size)\n",
    "\n",
    "print(f\"Before: {x.shape}\")\n",
    "\n",
    "x = gru(x)\n",
    "\n",
    "print(f\"After: {x.shape}\")"
   ]
  },
  {
   "cell_type": "code",
   "execution_count": 2,
   "metadata": {},
   "outputs": [
    {
     "data": {
      "text/plain": [
       "torch.Size([16, 650, 29])"
      ]
     },
     "execution_count": 2,
     "metadata": {},
     "output_type": "execute_result"
    }
   ],
   "source": [
    "from models.deep_speech import DeepSpeech\n",
    "import torch\n",
    "\n",
    "x = torch.randn((16, 1, 128, 1300))\n",
    "\n",
    "dp = DeepSpeech(3, 2, 512, 29, 128)\n",
    "\n",
    "out = dp(x)\n",
    "out.shape"
   ]
  },
  {
   "cell_type": "code",
   "execution_count": 3,
   "metadata": {},
   "outputs": [
    {
     "data": {
      "text/plain": [
       "26"
      ]
     },
     "execution_count": 3,
     "metadata": {},
     "output_type": "execute_result"
    }
   ],
   "source": [
    "len(\"abcdefghijklmnopqrstuvwxyz\")"
   ]
  },
  {
   "cell_type": "markdown",
   "metadata": {},
   "source": [
    "Playing aroung with attention layers."
   ]
  },
  {
   "cell_type": "code",
   "execution_count": 9,
   "metadata": {},
   "outputs": [],
   "source": [
    "import torch\n",
    "import torch.nn as nn"
   ]
  },
  {
   "cell_type": "code",
   "execution_count": 8,
   "metadata": {},
   "outputs": [
    {
     "name": "stdout",
     "output_type": "stream",
     "text": [
      "torch.Size([1, 650, 650])\n"
     ]
    }
   ],
   "source": [
    "input_shape = (1, 650, 512)\n",
    "features = torch.randn((input_shape))\n",
    "\n",
    "multi_head_attention = nn.MultiheadAttention(\n",
    "    embed_dim=input_shape[2],\n",
    "    num_heads=4,\n",
    "    batch_first=True)\n",
    "\n",
    "attn_output, att_weights = multi_head_attention(features, features, features)\n",
    "print(att_weights.shape)"
   ]
  },
  {
   "cell_type": "code",
   "execution_count": 10,
   "metadata": {},
   "outputs": [
    {
     "data": {
      "text/plain": [
       "torch.Size([1, 650, 512])"
      ]
     },
     "execution_count": 10,
     "metadata": {},
     "output_type": "execute_result"
    }
   ],
   "source": [
    "input_shape = (1, 650, 512)\n",
    "features = torch.randn((input_shape))\n",
    "\n",
    "layer_norm = nn.LayerNorm(512)\n",
    "out = layer_norm(features)\n",
    "out.shape"
   ]
  }
 ],
 "metadata": {
  "kernelspec": {
   "display_name": "cv_env",
   "language": "python",
   "name": "python3"
  },
  "language_info": {
   "codemirror_mode": {
    "name": "ipython",
    "version": 3
   },
   "file_extension": ".py",
   "mimetype": "text/x-python",
   "name": "python",
   "nbconvert_exporter": "python",
   "pygments_lexer": "ipython3",
   "version": "3.12.2"
  }
 },
 "nbformat": 4,
 "nbformat_minor": 2
}
